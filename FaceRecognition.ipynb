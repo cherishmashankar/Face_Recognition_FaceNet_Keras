{
  "nbformat": 4,
  "nbformat_minor": 0,
  "metadata": {
    "colab": {
      "name": "Untitled5.ipynb",
      "provenance": []
    },
    "kernelspec": {
      "name": "python3",
      "display_name": "Python 3"
    },
    "language_info": {
      "name": "python"
    }
  },
  "cells": [
    {
      "cell_type": "code",
      "execution_count": 35,
      "metadata": {
        "colab": {
          "base_uri": "https://localhost:8080/"
        },
        "id": "wHETYnSxTwf2",
        "outputId": "84671064-f9fc-49d6-8ff7-4dc395b0019b"
      },
      "outputs": [
        {
          "output_type": "stream",
          "name": "stdout",
          "text": [
            "Looking in indexes: https://pypi.org/simple, https://us-python.pkg.dev/colab-wheels/public/simple/\n",
            "Requirement already satisfied: mtcnn in /usr/local/lib/python3.7/dist-packages (0.1.1)\n",
            "Requirement already satisfied: opencv-python>=4.1.0 in /usr/local/lib/python3.7/dist-packages (from mtcnn) (4.1.2.30)\n",
            "Requirement already satisfied: keras>=2.0.0 in /usr/local/lib/python3.7/dist-packages (from mtcnn) (2.8.0)\n",
            "Requirement already satisfied: numpy>=1.14.5 in /usr/local/lib/python3.7/dist-packages (from opencv-python>=4.1.0->mtcnn) (1.21.6)\n"
          ]
        }
      ],
      "source": [
        "!pip install mtcnn\n",
        "from mtcnn.mtcnn import MTCNN\n",
        "from PIL import Image\n",
        "import matplotlib.pyplot as plt\n",
        "import numpy as np\n",
        "import cv2\n",
        "from numpy import load\n",
        "from numpy import expand_dims\n",
        "from numpy import asarray\n",
        "from numpy import savez_compressed\n",
        "from keras.models import load_model\n",
        "import os\n",
        "from sklearn.preprocessing import Normalizer\n",
        "from sklearn.svm import SVC\n",
        "import pickle\n",
        "\n",
        "\n",
        "def extract_face(file,required_size=(160,160)):\n",
        "    image = Image.open(file)\n",
        "    print('Working on image:',file)\n",
        "    image = image.convert('RGB')\n",
        "    pixels = np.asarray(image)\n",
        "    detector = MTCNN()\n",
        "    results = detector.detect_faces(pixels)\n",
        "    try:\n",
        "        x,y,w,h = results[0]['box']\n",
        "    except:\n",
        "        print('face not found:')\n",
        "    x,y = abs(x),abs(y)\n",
        "    face = pixels[y:y+h,x:x+w]\n",
        "    image = Image.fromarray(face)\n",
        "    image = image.resize(required_size)\n",
        "    face_array = np.asarray(image)\n",
        "    return face_array\n",
        "\n",
        "\n"
      ]
    },
    {
      "cell_type": "code",
      "source": [
        "# get the face embedding for one face\n",
        "def get_embedding(model, face_pixels):\n",
        "\t# scale pixel values\n",
        "\tface_pixels = face_pixels.astype('float32')\n",
        "\tprint(face_pixels.shape)\n",
        "\t# standardize pixel values across channels (global)\n",
        "\tmean, std = face_pixels.mean(), face_pixels.std()\n",
        "\tface_pixels = (face_pixels - mean) / std\n",
        "\t# transform face into one sample\n",
        "\tsamples = expand_dims(face_pixels, axis=0)\n",
        "\t# make prediction to get embedding\n",
        "\tyhat = model.predict(samples)\n",
        "\treturn yhat[0]\n",
        "\n"
      ],
      "metadata": {
        "id": "Bpo5dtLuUDrb"
      },
      "execution_count": 36,
      "outputs": []
    },
    {
      "cell_type": "code",
      "source": [
        "#Classes\n",
        "people = ['Ben Affleck','Cherishma Shankar', 'Elton John', 'Jerry Seinfeld', 'Madonna', 'Mindy Kaling']\n",
        "\n",
        "#load FaceNet model from keras\n",
        "keras_model = load_model('facenet_keras.h5')\n",
        "\n",
        "#Normalizer\n",
        "encoder = Normalizer(norm='l2')\n",
        "\n",
        "#SVM model\n",
        "model = pickle.load(open('svm_model.sav','rb'))\n",
        "\n",
        "face_pixels = extract_face('test_image5.jpg')\n",
        "\n",
        "#Get word embedding for face\n",
        "face_embedding = get_embedding(keras_model,face_pixels)\n",
        "\n",
        "#normalize the embedding\n",
        "face_embedding = encoder.transform(face_embedding.reshape(1,-1))\n",
        "\n",
        "\n",
        "#predict from SVM model\n",
        "predicted_label = model.predict(face_embedding)\n",
        "print(predicted_label)\n",
        "predicted_name  = people[predicted_label[0]]\n",
        "print(predicted_name)\n",
        "\n",
        "\n"
      ],
      "metadata": {
        "colab": {
          "base_uri": "https://localhost:8080/"
        },
        "id": "3sXQLKJsVMiF",
        "outputId": "f9f25a2a-c02b-4d8a-d185-36c470a974fb"
      },
      "execution_count": 40,
      "outputs": [
        {
          "output_type": "stream",
          "name": "stdout",
          "text": [
            "WARNING:tensorflow:No training configuration found in the save file, so the model was *not* compiled. Compile it manually.\n",
            "Working on image: test_image5.jpg\n"
          ]
        },
        {
          "output_type": "stream",
          "name": "stderr",
          "text": [
            "/usr/local/lib/python3.7/dist-packages/sklearn/base.py:338: UserWarning: Trying to unpickle estimator SVC from version 0.24.2 when using version 1.0.2. This might lead to breaking code or invalid results. Use at your own risk. For more info please refer to:\n",
            "https://scikit-learn.org/stable/modules/model_persistence.html#security-maintainability-limitations\n",
            "  UserWarning,\n"
          ]
        },
        {
          "output_type": "stream",
          "name": "stdout",
          "text": [
            "(160, 160, 3)\n",
            "[1]\n",
            "Cherishma Shankar\n"
          ]
        }
      ]
    },
    {
      "cell_type": "code",
      "source": [
        ""
      ],
      "metadata": {
        "id": "zrShJU7GX7wI"
      },
      "execution_count": null,
      "outputs": []
    }
  ]
}